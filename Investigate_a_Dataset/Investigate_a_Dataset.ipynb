{
 "cells": [
  {
   "cell_type": "markdown",
   "metadata": {},
   "source": [
    "# Project: No-show Appointments\n",
    "\n",
    "## Table of Contents\n",
    "<ul>\n",
    "<li><a href=\"#intro\">Introduction</a></li>\n",
    "<li><a href=\"#wrangling\">Data Wrangling</a></li>\n",
    "<li><a href=\"#eda\">Exploratory Data Analysis</a></li>\n",
    "<li><a href=\"#conclusions\">Conclusions</a></li>\n",
    "</ul>"
   ]
  },
  {
   "cell_type": "markdown",
   "metadata": {},
   "source": [
    "<a id='intro'></a>\n",
    "## Introduction\n",
    "\n",
    "### Dataset Description \n",
    "In this project, I will be analysing a dataset that contains data collected from more thatn 100k medical appointments in Brazil, and my focus will be to find out the whether or not patients show up for their appointment. Particularly, I will be finding out what are the characteristics of those patients who did not show up for their appointments. The following characteristics about the patients are included in this dataset: \n",
    "* **PatientId:** Identification of a patient\n",
    "* **AppointmentID:** Identification of each appointment\n",
    "* **Gender:** M - Male or M - Female\n",
    "* **ScheduledDay:** The day of the actual appointment, when the patient has to visit the doctor.\n",
    "* **AppointmentDay:** The day someone called or registered the appointment, this is before appointment of course.\n",
    "* **Age:** How old the patient is.\n",
    "* **Neighbourhood:** Where the appointment takes place. \n",
    "* **Scholarship:** 1 or 0. This indicates whether the patient is enrolled in the Brasilian welfare program (1) or not (0)\n",
    "* **Hipertension:** 1 or 0. Shows whether the patient is hypertentive.\n",
    "* **Diabetes:** 1 or 0. Shows whether the patient is diabetic (1) or not (0).\n",
    "* **Alcoholism:** 1 or 0. Shows whether the patient is an alcoholic (1) or not (0).\n",
    "* **Handcap:** 1 or 0. Shows whether the patient is handicapped (1) or not (0).\n",
    "* **SMS_received:** 1 or 0. Whether 1 or more messages was sent to the patient (1) or not (0).\n",
    "* **No-show:** 'Yes' means patient did not show up for appointment, while 'No' means patient showed up for appointment.\n",
    "\n",
    "### Question(s) for Analysis\n",
    "In determining whether patients show up for their appointments, I will be answering the following specific questions:\n",
    "1. Which gender had the highest proportion of patients who did not show up for their appointments?\n",
    "2. What is the age distribution of the patients who did not show up for their appointment?\n",
    "3. Does being hipertensive influence whether or not a patient shows up for their appointment?"
   ]
  },
  {
   "cell_type": "code",
   "execution_count": 131,
   "metadata": {},
   "outputs": [],
   "source": [
    "# Import statements for all of the packages that are used in this project.\n",
    "\n",
    "import pandas as pd\n",
    "import matplotlib.pyplot as plt\n",
    "import seaborn as sns\n",
    "%matplotlib inline"
   ]
  },
  {
   "cell_type": "markdown",
   "metadata": {},
   "source": [
    "<a id='wrangling'></a>\n",
    "## Data Wrangling\n",
    "\n",
    "In this section of the report, I will read the `no_show_appointments.csv` dataset into a dataframe, check for cleanliness, and then trim and clean the dataset for analysis.\n",
    "\n",
    "\n",
    "### General Properties\n",
    "The code in the cells below check the dimension of the data, then display a detailed view of the features of each patient and their data types. Summary statistics are also generated in order to get a deeper understanding of the dataset."
   ]
  },
  {
   "cell_type": "code",
   "execution_count": 132,
   "metadata": {},
   "outputs": [
    {
     "data": {
      "text/html": [
       "<div>\n",
       "<style scoped>\n",
       "    .dataframe tbody tr th:only-of-type {\n",
       "        vertical-align: middle;\n",
       "    }\n",
       "\n",
       "    .dataframe tbody tr th {\n",
       "        vertical-align: top;\n",
       "    }\n",
       "\n",
       "    .dataframe thead th {\n",
       "        text-align: right;\n",
       "    }\n",
       "</style>\n",
       "<table border=\"1\" class=\"dataframe\">\n",
       "  <thead>\n",
       "    <tr style=\"text-align: right;\">\n",
       "      <th></th>\n",
       "      <th>PatientId</th>\n",
       "      <th>AppointmentID</th>\n",
       "      <th>Gender</th>\n",
       "      <th>ScheduledDay</th>\n",
       "      <th>AppointmentDay</th>\n",
       "      <th>Age</th>\n",
       "      <th>Neighbourhood</th>\n",
       "      <th>Scholarship</th>\n",
       "      <th>Hipertension</th>\n",
       "      <th>Diabetes</th>\n",
       "      <th>Alcoholism</th>\n",
       "      <th>Handcap</th>\n",
       "      <th>SMS_received</th>\n",
       "      <th>No-show</th>\n",
       "    </tr>\n",
       "  </thead>\n",
       "  <tbody>\n",
       "    <tr>\n",
       "      <th>0</th>\n",
       "      <td>2.987250e+13</td>\n",
       "      <td>5642903</td>\n",
       "      <td>F</td>\n",
       "      <td>2016-04-29T18:38:08Z</td>\n",
       "      <td>2016-04-29T00:00:00Z</td>\n",
       "      <td>62</td>\n",
       "      <td>JARDIM DA PENHA</td>\n",
       "      <td>0</td>\n",
       "      <td>1</td>\n",
       "      <td>0</td>\n",
       "      <td>0</td>\n",
       "      <td>0</td>\n",
       "      <td>0</td>\n",
       "      <td>No</td>\n",
       "    </tr>\n",
       "    <tr>\n",
       "      <th>1</th>\n",
       "      <td>5.589980e+14</td>\n",
       "      <td>5642503</td>\n",
       "      <td>M</td>\n",
       "      <td>2016-04-29T16:08:27Z</td>\n",
       "      <td>2016-04-29T00:00:00Z</td>\n",
       "      <td>56</td>\n",
       "      <td>JARDIM DA PENHA</td>\n",
       "      <td>0</td>\n",
       "      <td>0</td>\n",
       "      <td>0</td>\n",
       "      <td>0</td>\n",
       "      <td>0</td>\n",
       "      <td>0</td>\n",
       "      <td>No</td>\n",
       "    </tr>\n",
       "    <tr>\n",
       "      <th>2</th>\n",
       "      <td>4.262960e+12</td>\n",
       "      <td>5642549</td>\n",
       "      <td>F</td>\n",
       "      <td>2016-04-29T16:19:04Z</td>\n",
       "      <td>2016-04-29T00:00:00Z</td>\n",
       "      <td>62</td>\n",
       "      <td>MATA DA PRAIA</td>\n",
       "      <td>0</td>\n",
       "      <td>0</td>\n",
       "      <td>0</td>\n",
       "      <td>0</td>\n",
       "      <td>0</td>\n",
       "      <td>0</td>\n",
       "      <td>No</td>\n",
       "    </tr>\n",
       "  </tbody>\n",
       "</table>\n",
       "</div>"
      ],
      "text/plain": [
       "      PatientId  AppointmentID Gender          ScheduledDay  \\\n",
       "0  2.987250e+13        5642903      F  2016-04-29T18:38:08Z   \n",
       "1  5.589980e+14        5642503      M  2016-04-29T16:08:27Z   \n",
       "2  4.262960e+12        5642549      F  2016-04-29T16:19:04Z   \n",
       "\n",
       "         AppointmentDay  Age    Neighbourhood  Scholarship  Hipertension  \\\n",
       "0  2016-04-29T00:00:00Z   62  JARDIM DA PENHA            0             1   \n",
       "1  2016-04-29T00:00:00Z   56  JARDIM DA PENHA            0             0   \n",
       "2  2016-04-29T00:00:00Z   62    MATA DA PRAIA            0             0   \n",
       "\n",
       "   Diabetes  Alcoholism  Handcap  SMS_received No-show  \n",
       "0         0           0        0             0      No  \n",
       "1         0           0        0             0      No  \n",
       "2         0           0        0             0      No  "
      ]
     },
     "execution_count": 132,
     "metadata": {},
     "output_type": "execute_result"
    }
   ],
   "source": [
    "# Read the dataset into a dataframe and print out the first 5 records.\n",
    "no_show_df = pd.read_csv('no_show_appointments.csv')\n",
    "no_show_df.head(3)"
   ]
  },
  {
   "cell_type": "code",
   "execution_count": 133,
   "metadata": {},
   "outputs": [
    {
     "data": {
      "text/plain": [
       "(110527, 14)"
      ]
     },
     "execution_count": 133,
     "metadata": {},
     "output_type": "execute_result"
    }
   ],
   "source": [
    "# Check the number of observations and attributes of the observations in the data\n",
    "no_show_df.shape"
   ]
  },
  {
   "cell_type": "code",
   "execution_count": 134,
   "metadata": {},
   "outputs": [
    {
     "name": "stdout",
     "output_type": "stream",
     "text": [
      "<class 'pandas.core.frame.DataFrame'>\n",
      "RangeIndex: 110527 entries, 0 to 110526\n",
      "Data columns (total 14 columns):\n",
      " #   Column          Non-Null Count   Dtype  \n",
      "---  ------          --------------   -----  \n",
      " 0   PatientId       110527 non-null  float64\n",
      " 1   AppointmentID   110527 non-null  int64  \n",
      " 2   Gender          110527 non-null  object \n",
      " 3   ScheduledDay    110527 non-null  object \n",
      " 4   AppointmentDay  110527 non-null  object \n",
      " 5   Age             110527 non-null  int64  \n",
      " 6   Neighbourhood   110527 non-null  object \n",
      " 7   Scholarship     110527 non-null  int64  \n",
      " 8   Hipertension    110527 non-null  int64  \n",
      " 9   Diabetes        110527 non-null  int64  \n",
      " 10  Alcoholism      110527 non-null  int64  \n",
      " 11  Handcap         110527 non-null  int64  \n",
      " 12  SMS_received    110527 non-null  int64  \n",
      " 13  No-show         110527 non-null  object \n",
      "dtypes: float64(1), int64(8), object(5)\n",
      "memory usage: 11.8+ MB\n"
     ]
    }
   ],
   "source": [
    "# Perform a more detailed view of the data, by checking for the data types of the columns \n",
    "# and whether there are any missing \n",
    "no_show_df.info()"
   ]
  },
  {
   "cell_type": "code",
   "execution_count": 135,
   "metadata": {},
   "outputs": [
    {
     "data": {
      "text/html": [
       "<div>\n",
       "<style scoped>\n",
       "    .dataframe tbody tr th:only-of-type {\n",
       "        vertical-align: middle;\n",
       "    }\n",
       "\n",
       "    .dataframe tbody tr th {\n",
       "        vertical-align: top;\n",
       "    }\n",
       "\n",
       "    .dataframe thead th {\n",
       "        text-align: right;\n",
       "    }\n",
       "</style>\n",
       "<table border=\"1\" class=\"dataframe\">\n",
       "  <thead>\n",
       "    <tr style=\"text-align: right;\">\n",
       "      <th></th>\n",
       "      <th>PatientId</th>\n",
       "      <th>AppointmentID</th>\n",
       "      <th>Age</th>\n",
       "      <th>Scholarship</th>\n",
       "      <th>Hipertension</th>\n",
       "      <th>Diabetes</th>\n",
       "      <th>Alcoholism</th>\n",
       "      <th>Handcap</th>\n",
       "      <th>SMS_received</th>\n",
       "    </tr>\n",
       "  </thead>\n",
       "  <tbody>\n",
       "    <tr>\n",
       "      <th>count</th>\n",
       "      <td>1.105270e+05</td>\n",
       "      <td>1.105270e+05</td>\n",
       "      <td>110527.000000</td>\n",
       "      <td>110527.000000</td>\n",
       "      <td>110527.000000</td>\n",
       "      <td>110527.000000</td>\n",
       "      <td>110527.000000</td>\n",
       "      <td>110527.000000</td>\n",
       "      <td>110527.000000</td>\n",
       "    </tr>\n",
       "    <tr>\n",
       "      <th>mean</th>\n",
       "      <td>1.474963e+14</td>\n",
       "      <td>5.675305e+06</td>\n",
       "      <td>37.088874</td>\n",
       "      <td>0.098266</td>\n",
       "      <td>0.197246</td>\n",
       "      <td>0.071865</td>\n",
       "      <td>0.030400</td>\n",
       "      <td>0.022248</td>\n",
       "      <td>0.321026</td>\n",
       "    </tr>\n",
       "    <tr>\n",
       "      <th>std</th>\n",
       "      <td>2.560949e+14</td>\n",
       "      <td>7.129575e+04</td>\n",
       "      <td>23.110205</td>\n",
       "      <td>0.297675</td>\n",
       "      <td>0.397921</td>\n",
       "      <td>0.258265</td>\n",
       "      <td>0.171686</td>\n",
       "      <td>0.161543</td>\n",
       "      <td>0.466873</td>\n",
       "    </tr>\n",
       "    <tr>\n",
       "      <th>min</th>\n",
       "      <td>3.920000e+04</td>\n",
       "      <td>5.030230e+06</td>\n",
       "      <td>-1.000000</td>\n",
       "      <td>0.000000</td>\n",
       "      <td>0.000000</td>\n",
       "      <td>0.000000</td>\n",
       "      <td>0.000000</td>\n",
       "      <td>0.000000</td>\n",
       "      <td>0.000000</td>\n",
       "    </tr>\n",
       "    <tr>\n",
       "      <th>25%</th>\n",
       "      <td>4.172615e+12</td>\n",
       "      <td>5.640286e+06</td>\n",
       "      <td>18.000000</td>\n",
       "      <td>0.000000</td>\n",
       "      <td>0.000000</td>\n",
       "      <td>0.000000</td>\n",
       "      <td>0.000000</td>\n",
       "      <td>0.000000</td>\n",
       "      <td>0.000000</td>\n",
       "    </tr>\n",
       "    <tr>\n",
       "      <th>50%</th>\n",
       "      <td>3.173180e+13</td>\n",
       "      <td>5.680573e+06</td>\n",
       "      <td>37.000000</td>\n",
       "      <td>0.000000</td>\n",
       "      <td>0.000000</td>\n",
       "      <td>0.000000</td>\n",
       "      <td>0.000000</td>\n",
       "      <td>0.000000</td>\n",
       "      <td>0.000000</td>\n",
       "    </tr>\n",
       "    <tr>\n",
       "      <th>75%</th>\n",
       "      <td>9.439170e+13</td>\n",
       "      <td>5.725524e+06</td>\n",
       "      <td>55.000000</td>\n",
       "      <td>0.000000</td>\n",
       "      <td>0.000000</td>\n",
       "      <td>0.000000</td>\n",
       "      <td>0.000000</td>\n",
       "      <td>0.000000</td>\n",
       "      <td>1.000000</td>\n",
       "    </tr>\n",
       "    <tr>\n",
       "      <th>max</th>\n",
       "      <td>9.999820e+14</td>\n",
       "      <td>5.790484e+06</td>\n",
       "      <td>115.000000</td>\n",
       "      <td>1.000000</td>\n",
       "      <td>1.000000</td>\n",
       "      <td>1.000000</td>\n",
       "      <td>1.000000</td>\n",
       "      <td>4.000000</td>\n",
       "      <td>1.000000</td>\n",
       "    </tr>\n",
       "  </tbody>\n",
       "</table>\n",
       "</div>"
      ],
      "text/plain": [
       "          PatientId  AppointmentID            Age    Scholarship  \\\n",
       "count  1.105270e+05   1.105270e+05  110527.000000  110527.000000   \n",
       "mean   1.474963e+14   5.675305e+06      37.088874       0.098266   \n",
       "std    2.560949e+14   7.129575e+04      23.110205       0.297675   \n",
       "min    3.920000e+04   5.030230e+06      -1.000000       0.000000   \n",
       "25%    4.172615e+12   5.640286e+06      18.000000       0.000000   \n",
       "50%    3.173180e+13   5.680573e+06      37.000000       0.000000   \n",
       "75%    9.439170e+13   5.725524e+06      55.000000       0.000000   \n",
       "max    9.999820e+14   5.790484e+06     115.000000       1.000000   \n",
       "\n",
       "        Hipertension       Diabetes     Alcoholism        Handcap  \\\n",
       "count  110527.000000  110527.000000  110527.000000  110527.000000   \n",
       "mean        0.197246       0.071865       0.030400       0.022248   \n",
       "std         0.397921       0.258265       0.171686       0.161543   \n",
       "min         0.000000       0.000000       0.000000       0.000000   \n",
       "25%         0.000000       0.000000       0.000000       0.000000   \n",
       "50%         0.000000       0.000000       0.000000       0.000000   \n",
       "75%         0.000000       0.000000       0.000000       0.000000   \n",
       "max         1.000000       1.000000       1.000000       4.000000   \n",
       "\n",
       "        SMS_received  \n",
       "count  110527.000000  \n",
       "mean        0.321026  \n",
       "std         0.466873  \n",
       "min         0.000000  \n",
       "25%         0.000000  \n",
       "50%         0.000000  \n",
       "75%         1.000000  \n",
       "max         1.000000  "
      ]
     },
     "execution_count": 135,
     "metadata": {},
     "output_type": "execute_result"
    }
   ],
   "source": [
    "no_show_df.describe()"
   ]
  },
  {
   "cell_type": "markdown",
   "metadata": {},
   "source": [
    "This dataset has a total of `110527 patients observed`, with `14 attributes gathered on each of them`. There are no missing values in the dataset, although there is one observation which has a negative age. This observation will be dropped, as age cannot have a value less than years. It is assumed that the age of the patients is recorded in years, and a value of 0 for age implies that these patients are infants below one year who are being taken to the hospitals by either their parents or guardians."
   ]
  },
  {
   "cell_type": "markdown",
   "metadata": {},
   "source": [
    "### Data Cleaning\n",
    "In this analysis, I will be analysing the follwing attributes: `Age, Gender and Hipertension` and how they relate with the `No-show` column, which will be the dependent variable in my analysis. I will first drop all the columns I will not need for the analysis, then I will change all the column names to have lowercase characters. I will also drop the observation(s) with negative age value. All this cleaning will be performing using a function called `clean_dataset` which I define."
   ]
  },
  {
   "cell_type": "code",
   "execution_count": 136,
   "metadata": {},
   "outputs": [],
   "source": [
    "def clean_dataset(df):\n",
    "    '''This function takes a dataframe and drops the columns not required for analysis and any errant data'''\n",
    "    # Drop columns not required for the analysis\n",
    "    df.drop(columns=['PatientId', 'AppointmentID', 'ScheduledDay', 'AppointmentDay', 'Neighbourhood',\n",
    "                          'Scholarship', 'Diabetes', 'Alcoholism', 'Handcap', 'SMS_received'], inplace=True)\n",
    "    \n",
    "    # Change column names to lowercase and rename\n",
    "    df.columns=no_show_df.columns.str.lower()\n",
    "    \n",
    "    # Rename some columns\n",
    "    df.rename(columns={'hipertension':'hypertension', 'no-show':'no_show'}, inplace=True)\n",
    "    \n",
    "    # Drop observation(s) with negative age values\n",
    "    df.drop(no_show_df[no_show_df.age < 0].index, inplace=True)\n",
    "    \n",
    "    return df"
   ]
  },
  {
   "cell_type": "code",
   "execution_count": 137,
   "metadata": {},
   "outputs": [
    {
     "data": {
      "text/html": [
       "<div>\n",
       "<style scoped>\n",
       "    .dataframe tbody tr th:only-of-type {\n",
       "        vertical-align: middle;\n",
       "    }\n",
       "\n",
       "    .dataframe tbody tr th {\n",
       "        vertical-align: top;\n",
       "    }\n",
       "\n",
       "    .dataframe thead th {\n",
       "        text-align: right;\n",
       "    }\n",
       "</style>\n",
       "<table border=\"1\" class=\"dataframe\">\n",
       "  <thead>\n",
       "    <tr style=\"text-align: right;\">\n",
       "      <th></th>\n",
       "      <th>gender</th>\n",
       "      <th>age</th>\n",
       "      <th>hypertension</th>\n",
       "      <th>no_show</th>\n",
       "    </tr>\n",
       "  </thead>\n",
       "  <tbody>\n",
       "    <tr>\n",
       "      <th>0</th>\n",
       "      <td>F</td>\n",
       "      <td>62</td>\n",
       "      <td>1</td>\n",
       "      <td>No</td>\n",
       "    </tr>\n",
       "    <tr>\n",
       "      <th>1</th>\n",
       "      <td>M</td>\n",
       "      <td>56</td>\n",
       "      <td>0</td>\n",
       "      <td>No</td>\n",
       "    </tr>\n",
       "    <tr>\n",
       "      <th>2</th>\n",
       "      <td>F</td>\n",
       "      <td>62</td>\n",
       "      <td>0</td>\n",
       "      <td>No</td>\n",
       "    </tr>\n",
       "    <tr>\n",
       "      <th>3</th>\n",
       "      <td>F</td>\n",
       "      <td>8</td>\n",
       "      <td>0</td>\n",
       "      <td>No</td>\n",
       "    </tr>\n",
       "    <tr>\n",
       "      <th>4</th>\n",
       "      <td>F</td>\n",
       "      <td>56</td>\n",
       "      <td>1</td>\n",
       "      <td>No</td>\n",
       "    </tr>\n",
       "  </tbody>\n",
       "</table>\n",
       "</div>"
      ],
      "text/plain": [
       "  gender  age  hypertension no_show\n",
       "0      F   62             1      No\n",
       "1      M   56             0      No\n",
       "2      F   62             0      No\n",
       "3      F    8             0      No\n",
       "4      F   56             1      No"
      ]
     },
     "execution_count": 137,
     "metadata": {},
     "output_type": "execute_result"
    }
   ],
   "source": [
    "# Perform data cleaning on the 'no-show appointments' dataset\n",
    "# and view the first five rows of the cleaned dataset\n",
    "\n",
    "clean_dataset(no_show_df).head()"
   ]
  },
  {
   "cell_type": "code",
   "execution_count": 138,
   "metadata": {},
   "outputs": [
    {
     "data": {
      "text/html": [
       "<div>\n",
       "<style scoped>\n",
       "    .dataframe tbody tr th:only-of-type {\n",
       "        vertical-align: middle;\n",
       "    }\n",
       "\n",
       "    .dataframe tbody tr th {\n",
       "        vertical-align: top;\n",
       "    }\n",
       "\n",
       "    .dataframe thead th {\n",
       "        text-align: right;\n",
       "    }\n",
       "</style>\n",
       "<table border=\"1\" class=\"dataframe\">\n",
       "  <thead>\n",
       "    <tr style=\"text-align: right;\">\n",
       "      <th></th>\n",
       "      <th>age</th>\n",
       "      <th>hypertension</th>\n",
       "    </tr>\n",
       "  </thead>\n",
       "  <tbody>\n",
       "    <tr>\n",
       "      <th>count</th>\n",
       "      <td>110526.000000</td>\n",
       "      <td>110526.000000</td>\n",
       "    </tr>\n",
       "    <tr>\n",
       "      <th>mean</th>\n",
       "      <td>37.089219</td>\n",
       "      <td>0.197248</td>\n",
       "    </tr>\n",
       "    <tr>\n",
       "      <th>std</th>\n",
       "      <td>23.110026</td>\n",
       "      <td>0.397923</td>\n",
       "    </tr>\n",
       "    <tr>\n",
       "      <th>min</th>\n",
       "      <td>0.000000</td>\n",
       "      <td>0.000000</td>\n",
       "    </tr>\n",
       "    <tr>\n",
       "      <th>25%</th>\n",
       "      <td>18.000000</td>\n",
       "      <td>0.000000</td>\n",
       "    </tr>\n",
       "    <tr>\n",
       "      <th>50%</th>\n",
       "      <td>37.000000</td>\n",
       "      <td>0.000000</td>\n",
       "    </tr>\n",
       "    <tr>\n",
       "      <th>75%</th>\n",
       "      <td>55.000000</td>\n",
       "      <td>0.000000</td>\n",
       "    </tr>\n",
       "    <tr>\n",
       "      <th>max</th>\n",
       "      <td>115.000000</td>\n",
       "      <td>1.000000</td>\n",
       "    </tr>\n",
       "  </tbody>\n",
       "</table>\n",
       "</div>"
      ],
      "text/plain": [
       "                 age   hypertension\n",
       "count  110526.000000  110526.000000\n",
       "mean       37.089219       0.197248\n",
       "std        23.110026       0.397923\n",
       "min         0.000000       0.000000\n",
       "25%        18.000000       0.000000\n",
       "50%        37.000000       0.000000\n",
       "75%        55.000000       0.000000\n",
       "max       115.000000       1.000000"
      ]
     },
     "execution_count": 138,
     "metadata": {},
     "output_type": "execute_result"
    }
   ],
   "source": [
    "# Generate summary statistics for the independent variables 'age' and 'hypertension'\n",
    "no_show_df.describe()"
   ]
  },
  {
   "cell_type": "markdown",
   "metadata": {},
   "source": [
    "<a id='eda'></a>\n",
    "## Exploratory Data Analysis\n",
    "In this section of the analysis, I create visualizations with the goal of addressing the research questions that have been posed in the Introduction section. In the visualisations below, I investigate the distibrutions of the features I will analyse using histograms for numerica data and bar charts for categorical data."
   ]
  },
  {
   "cell_type": "code",
   "execution_count": 139,
   "metadata": {},
   "outputs": [
    {
     "data": {
      "image/png": "[encoded data removed]",
      "text/plain": [
       "<Figure size 864x360 with 2 Axes>"
      ]
     },
     "metadata": {
      "needs_background": "light"
     },
     "output_type": "display_data"
    }
   ],
   "source": [
    "# Plot histograms of the features with numeric data, i.e age, hypertension.\n",
    "no_show_df.hist(figsize=(12,5));"
   ]
  },
  {
   "cell_type": "markdown",
   "metadata": {},
   "source": [
    "From the two histograms above, it can be seen that the age of the majority of the patients observed was below 65 years and that most of these patients were not hypertensive. However, there is need to use descriptive statistics to get a deeper understanding about the age of the patients. This is done using the `describe` function as shown below."
   ]
  },
  {
   "cell_type": "code",
   "execution_count": 140,
   "metadata": {},
   "outputs": [
    {
     "data": {
      "text/plain": [
       "count    110526.000000\n",
       "mean         37.089219\n",
       "std          23.110026\n",
       "min           0.000000\n",
       "25%          18.000000\n",
       "50%          37.000000\n",
       "75%          55.000000\n",
       "max         115.000000\n",
       "Name: age, dtype: float64"
      ]
     },
     "execution_count": 140,
     "metadata": {},
     "output_type": "execute_result"
    }
   ],
   "source": [
    "# Pandas describe() function is used to generate descriptive statistics for the feature 'age' \n",
    "no_show_df['age'].describe()"
   ]
  },
  {
   "cell_type": "markdown",
   "metadata": {},
   "source": [
    "From the descriptive statistics summary generated above, it can be observed that the average age is 37 years, the minimumun is 0, and the maximum age is 115 years. However, looking at the difference between the average age and the maximum age, it is highly likely that the mean age was affected by the presence of outliers in the age variable. Therefore, I will check for the presence of outliers in the `age` variable. This will be done first by creating a box plot, and then computing the actual values using the interquartile range method. This process is demostrated below."
   ]
  },
  {
   "cell_type": "markdown",
   "metadata": {},
   "source": [
    "#### Detecting Outliers Using a Boxplot"
   ]
  },
  {
   "cell_type": "code",
   "execution_count": 141,
   "metadata": {},
   "outputs": [
    {
     "data": {
      "image/png": "[encoded data removed]",
      "text/plain": [
       "<Figure size 432x288 with 1 Axes>"
      ]
     },
     "metadata": {
      "needs_background": "light"
     },
     "output_type": "display_data"
    }
   ],
   "source": [
    "# Using matplotlib to create a boxplot and check for the presence of outliers in the 'age' feature.\n",
    "\n",
    "plt.boxplot(no_show_df[\"age\"], widths=0.4, vert=False);\n",
    "plt.title(\"Box plot of Patients' Age\");\n",
    "plt.xlabel(\"Age\");\n",
    "plt.yticks([1], [\"\"]);"
   ]
  },
  {
   "cell_type": "markdown",
   "metadata": {},
   "source": [
    "The generated box plot above shows that there are outliers in the age variable. It apears that the maximum age of 115 years is an outlier, and this is confirmed by using the interquartile range method below."
   ]
  },
  {
   "cell_type": "markdown",
   "metadata": {},
   "source": [
    "#### Detecting Outliers Using Interquartile Range\n",
    "\n",
    ">The interquartile range method defines outliers as values larger than the upper bound (i.e., Q3 + 1.5 * IQR) or the values smaller than the lower bound (i.e., Q1 – 1.5 * IQR), where\n",
    ">* Q3 = the upper quartile\n",
    ">* Q1 = the lower quartile\n",
    ">* IQR = the interquartile range (i.e, Q3 - Q1)"
   ]
  },
  {
   "cell_type": "code",
   "execution_count": 142,
   "metadata": {},
   "outputs": [
    {
     "name": "stdout",
     "output_type": "stream",
     "text": [
      "The lower quartile of 18 shows that 25% of the patients are below the age of 18.      \n",
      "The upper quartile of 55 shows that 75% of the patients are below the age of 55.\n"
     ]
    }
   ],
   "source": [
    "# Compute the interquartile range (iqr) as follows:\n",
    "\n",
    "lower_quart = round(no_show_df['age'].quantile(.25)) # lower quartile\n",
    "upper_quart = round(no_show_df['age'].quantile(.75)) # upper quartile\n",
    "iqr = upper_quart - lower_quart # interquartile range\n",
    "\n",
    "print(f\"The lower quartile of {lower_quart} shows that 25% of the patients are below the age of {lower_quart}.\\\n",
    "      \\nThe upper quartile of {upper_quart} shows that 75% of the patients are below the age of {upper_quart}.\")"
   ]
  },
  {
   "cell_type": "code",
   "execution_count": 143,
   "metadata": {},
   "outputs": [
    {
     "name": "stdout",
     "output_type": "stream",
     "text": [
      "Lower bound: -38\n",
      "Upper bound: 110\n"
     ]
    }
   ],
   "source": [
    "# Compute the upper and lower bounds as follows:\n",
    "\n",
    "lower_bound = round(lower_quart - (1.5 * iqr))\n",
    "upper_bound = round(upper_quart + (1.5 * iqr))\n",
    "\n",
    "print(f\"Lower bound: {lower_bound}\\nUpper bound: {upper_bound}\")"
   ]
  },
  {
   "cell_type": "markdown",
   "metadata": {},
   "source": [
    "As indicated by the computed results of the interquartile range method above, all observations with age values above 110 years are outliers and must be dropped because these data point deviate from the pattern of the observations. As for the lower bound, however, since age cannot be a negative value, the lower bound is zero. This result agrees with the result depicted in the box plot above."
   ]
  },
  {
   "cell_type": "markdown",
   "metadata": {},
   "source": [
    "#### Dropping Outliers"
   ]
  },
  {
   "cell_type": "markdown",
   "metadata": {},
   "source": [
    "Before dropping any outliers from the dataset, there were `110526` observations. The following code statement drops all the observations whose age is greater that 110 years."
   ]
  },
  {
   "cell_type": "code",
   "execution_count": 144,
   "metadata": {},
   "outputs": [
    {
     "data": {
      "text/plain": [
       "(110521, 4)"
      ]
     },
     "execution_count": 144,
     "metadata": {},
     "output_type": "execute_result"
    }
   ],
   "source": [
    "# Drop all records where age greater than 110\n",
    "no_show_df.drop(no_show_df.index[no_show_df['age'] >= 110], inplace=True)\n",
    "no_show_df.shape"
   ]
  },
  {
   "cell_type": "code",
   "execution_count": 145,
   "metadata": {},
   "outputs": [
    {
     "data": {
      "text/plain": [
       "count    110521.000000\n",
       "mean         37.085694\n",
       "std          23.104606\n",
       "min           0.000000\n",
       "25%          18.000000\n",
       "50%          37.000000\n",
       "75%          55.000000\n",
       "max         102.000000\n",
       "Name: age, dtype: float64"
      ]
     },
     "execution_count": 145,
     "metadata": {},
     "output_type": "execute_result"
    }
   ],
   "source": [
    "# Generate summary statistics in order to get another look at the changes to the 'age' feature\n",
    "no_show_df['age'].describe()"
   ]
  },
  {
   "cell_type": "markdown",
   "metadata": {},
   "source": [
    "From the above results, it can be observed that five observations were outliers, which are now excluded from the dataset. The maximum age is now 102 year, which is quite sensible compared to 115 years."
   ]
  },
  {
   "cell_type": "markdown",
   "metadata": {},
   "source": [
    "### Research Question 1:\tWhich gender had the highest proportion of patients who did not show up for their appointments?"
   ]
  },
  {
   "cell_type": "markdown",
   "metadata": {},
   "source": [
    "It order to determine which gender had the highest number of patients who did not show up for their appointments, I will first create a bar chart which will compare the number of female patients who attended and did not attend their appointments versus the number of males who attended and did not attend their appointments. Then, I will compute actual numbers to support my observations from the chart."
   ]
  },
  {
   "cell_type": "markdown",
   "metadata": {},
   "source": [
    "#### Gender vs No_show Distribution\n",
    "According to the bar chart below, the majority of the observed patients were females, and that more females compared to males attended their scheduled appointments. This is shown by the `(F, No)` bar being higher than the `(M, No)` bar. However, the chart also shows that among all the patients who did not attend their scheduled appointments, the number of female patients was more than that of men. This is shown by the `(F, Yes)` bar being higher than the `(M, Yes)` bar. The computations below the graph show the actual values to support this observation."
   ]
  },
  {
   "cell_type": "code",
   "execution_count": 146,
   "metadata": {},
   "outputs": [
    {
     "data": {
      "image/png": "[encoded data removed]",
      "text/plain": [
       "<Figure size 432x288 with 1 Axes>"
      ]
     },
     "metadata": {
      "needs_background": "light"
     },
     "output_type": "display_data"
    }
   ],
   "source": [
    "no_show_df.groupby(['gender'])['no_show'].value_counts().plot(kind='bar', stacked=True);\n",
    "plt.title('Gender vs No_show');\n",
    "plt.xlabel('Gender, No_show');\n",
    "plt.ylabel('Count')\n",
    "plt.xticks(rotation=0);"
   ]
  },
  {
   "cell_type": "markdown",
   "metadata": {},
   "source": [
    "#### Actual Computations\n",
    "To determine the proportion of females that did not attend their scheduled appointments, I first compute the total number of patients who did not attend their appointments, irrespective of their gender. Then I will find out what fraction of those patients are male and female, respectively. The code below demostrates this computation."
   ]
  },
  {
   "cell_type": "code",
   "execution_count": 147,
   "metadata": {},
   "outputs": [
    {
     "data": {
      "text/plain": [
       "20.19163778829363"
      ]
     },
     "execution_count": 147,
     "metadata": {},
     "output_type": "execute_result"
    }
   ],
   "source": [
    "# The percentage of patients who did not show up for their appointments is computed below:\n",
    "no_show_mask = no_show_df['no_show'] == 'Yes' # Create a mask of the patients who did not show up for their appointments\n",
    "\n",
    "sum(no_show_mask)/len(no_show_df) * 100"
   ]
  },
  {
   "cell_type": "code",
   "execution_count": 148,
   "metadata": {},
   "outputs": [
    {
     "name": "stdout",
     "output_type": "stream",
     "text": [
      "A total of 22316 patients did not attend their appointments.         \n",
      "This is made up of 14591 females and 7725 males.\n"
     ]
    }
   ],
   "source": [
    "# Calculate the total number of patients who did not attend their scheduled appointments\n",
    "total_no_show = no_show_df.no_show[no_show_mask].count()\n",
    "\n",
    "# The next two code statements get the number of female and male patients that did not show for their scheduled appointments\n",
    "female_no_show = no_show_df['gender'][no_show_mask].value_counts()[0]\n",
    "male_no_show = no_show_df['gender'][no_show_mask].value_counts()[1]\n",
    "\n",
    "\n",
    "print(f'A total of {total_no_show} patients did not attend their appointments. \\\n",
    "        \\nThis is made up of {female_no_show} females and {male_no_show} males.')"
   ]
  },
  {
   "cell_type": "code",
   "execution_count": 149,
   "metadata": {},
   "outputs": [
    {
     "name": "stdout",
     "output_type": "stream",
     "text": [
      "65% of patients who did not attend their appointments were female and 35% were male.\n"
     ]
    }
   ],
   "source": [
    "# Determine the proportion of female and male patients who did not attend their scheduled appointments\n",
    "female_prop = (female_no_show/total_no_show) * 100\n",
    "male_prop = (male_no_show/total_no_show) * 100\n",
    "\n",
    "print(f\"{round(female_prop)}% of patients who did not attend their appointments were female \\\n",
    "and {round(male_prop)}% were male.\")"
   ]
  },
  {
   "cell_type": "markdown",
   "metadata": {},
   "source": [
    "The computational results above simply support what was observed in the bar chart above, that females made up the majority of the patients who did not show up for their scheduled appointments."
   ]
  },
  {
   "cell_type": "markdown",
   "metadata": {},
   "source": [
    "### Research Question 2. What is the age distribution of the patients who did not show up for their appointment?"
   ]
  },
  {
   "cell_type": "code",
   "execution_count": 150,
   "metadata": {},
   "outputs": [
    {
     "data": {
      "image/png": "[encoded data removed]",
      "text/plain": [
       "<Figure size 432x360 with 1 Axes>"
      ]
     },
     "metadata": {
      "needs_background": "light"
     },
     "output_type": "display_data"
    }
   ],
   "source": [
    "# Histogram to determine the age distribution of the patients who did not show up\n",
    "# for their appointments\n",
    "\n",
    "no_show_df.age[no_show_mask].hist(figsize=(6, 5));\n",
    "plt.title('Age Distribution of No-show Patients');\n",
    "plt.xlabel('Age');\n",
    "plt.ylabel('Frequency');"
   ]
  },
  {
   "cell_type": "markdown",
   "metadata": {},
   "source": [
    "From the histogram above, it can be observed that the majority of the patients who did not attend their scheduled appointments were 55 years old and below, with the highest numbers being around 35 years and below. The summary statistics below appear to show a similar result."
   ]
  },
  {
   "cell_type": "code",
   "execution_count": 152,
   "metadata": {},
   "outputs": [
    {
     "data": {
      "text/plain": [
       "count    22316.0\n",
       "mean        34.0\n",
       "std         22.0\n",
       "min          0.0\n",
       "25%         16.0\n",
       "50%         33.0\n",
       "75%         51.0\n",
       "max         98.0\n",
       "Name: age, dtype: float64"
      ]
     },
     "execution_count": 152,
     "metadata": {},
     "output_type": "execute_result"
    }
   ],
   "source": [
    "# Summary of the statistics to support the observation on the age distribution of the patients\n",
    "# who did not attend their appointments\n",
    "\n",
    "round(no_show_df.age[no_show_mask].describe())"
   ]
  },
  {
   "cell_type": "markdown",
   "metadata": {},
   "source": [
    "### Research Question 3. Does being hypertensive influence whether a patient shows up for their appointment?\n",
    "This question tries to determine whether there is a relationship between being hypertensive and attending scheduled appointments. In order to investigate this relationship, I will use a descriptive statistic of multi-variable data called a correlation matrix, which will represent the ‘correlations’ between the variables `no_show` and the independent variables `age` and `hypertension` in the `no_show_appointments` data."
   ]
  },
  {
   "cell_type": "markdown",
   "metadata": {},
   "source": [
    "#### Creating a correlation matrix\n",
    "Since the `no_show` variable contains non-numeric values, I first create a copy of the initial dataframe and then replace the \"Yes\" values with 0 and the \"No\" values with 1 in the copy dataframe. Then I will generate a correlation matrix of the copy dataframe, and lastly plot the matrix in a heatmap. The code below demonstrates these processes."
   ]
  },
  {
   "cell_type": "code",
   "execution_count": 153,
   "metadata": {},
   "outputs": [],
   "source": [
    "# Create a copy of the initial dataframe and then change the values of the 'no_show' variable\n",
    "no_show_df2 = no_show_df.copy()\n",
    "no_show_df2['no_show'].replace({\"Yes\": 0, \"No\": 1}, inplace=True)"
   ]
  },
  {
   "cell_type": "code",
   "execution_count": 154,
   "metadata": {},
   "outputs": [
    {
     "data": {
      "text/html": [
       "<div>\n",
       "<style scoped>\n",
       "    .dataframe tbody tr th:only-of-type {\n",
       "        vertical-align: middle;\n",
       "    }\n",
       "\n",
       "    .dataframe tbody tr th {\n",
       "        vertical-align: top;\n",
       "    }\n",
       "\n",
       "    .dataframe thead th {\n",
       "        text-align: right;\n",
       "    }\n",
       "</style>\n",
       "<table border=\"1\" class=\"dataframe\">\n",
       "  <thead>\n",
       "    <tr style=\"text-align: right;\">\n",
       "      <th></th>\n",
       "      <th>age</th>\n",
       "      <th>hypertension</th>\n",
       "      <th>no_show</th>\n",
       "    </tr>\n",
       "  </thead>\n",
       "  <tbody>\n",
       "    <tr>\n",
       "      <th>age</th>\n",
       "      <td>1.000000</td>\n",
       "      <td>0.504726</td>\n",
       "      <td>0.060497</td>\n",
       "    </tr>\n",
       "    <tr>\n",
       "      <th>hypertension</th>\n",
       "      <td>0.504726</td>\n",
       "      <td>1.000000</td>\n",
       "      <td>0.035673</td>\n",
       "    </tr>\n",
       "    <tr>\n",
       "      <th>no_show</th>\n",
       "      <td>0.060497</td>\n",
       "      <td>0.035673</td>\n",
       "      <td>1.000000</td>\n",
       "    </tr>\n",
       "  </tbody>\n",
       "</table>\n",
       "</div>"
      ],
      "text/plain": [
       "                   age  hypertension   no_show\n",
       "age           1.000000      0.504726  0.060497\n",
       "hypertension  0.504726      1.000000  0.035673\n",
       "no_show       0.060497      0.035673  1.000000"
      ]
     },
     "execution_count": 154,
     "metadata": {},
     "output_type": "execute_result"
    }
   ],
   "source": [
    "# Generate a correlation matrix of the copy dataframe\n",
    "no_show_df2.corr()"
   ]
  },
  {
   "cell_type": "code",
   "execution_count": 155,
   "metadata": {},
   "outputs": [
    {
     "data": {
      "image/png": "[encoded data removed]",
      "text/plain": [
       "<Figure size 432x288 with 2 Axes>"
      ]
     },
     "metadata": {
      "needs_background": "light"
     },
     "output_type": "display_data"
    }
   ],
   "source": [
    "# Plot the correlation matrix in a heatmap\n",
    "sns.heatmap(no_show_df2.corr());\n",
    "plt.title('Heatmap of No-show data');"
   ]
  },
  {
   "cell_type": "markdown",
   "metadata": {},
   "source": [
    "According to the correlation matrix, a value close to 0 indicates the absence of any correlation between the two variables, meaning the variables being compared are independent of each other. As can be seen from the correlation matrix, the value of the intersection between the `no_show` variable and the `hypertension` variable is 0.035673, which represents a very small correlation between the two variables. This is also shown by the shades of the heatmap, where darker shades of color indicate smaller values while brighter shades correspond to larger values (nearer to 1). It can be observed that it is only `age` and `hypertension` features that have a relatively strong correlation with each other (0.504726)."
   ]
  },
  {
   "cell_type": "markdown",
   "metadata": {},
   "source": [
    "<a id='conclusions'></a>\n",
    "## Conclusions\n",
    ">**Findings:** My findings showed that:\n",
    ">\n",
    ">(a) Out of the patients who did not show up for their appointments, about 65% of them were female.\n",
    ">\n",
    ">(b) The age distribution of the patients who did not attend their scheduled appointments was below 55 years. \n",
    ">\n",
    ">(c) Being hypertensive has no influence on whether patients showed up for their scheduled appointments.\n",
    ">\n",
    ">(d) There is a correlation between age and hypertension\n",
    "\n",
    "**Limitations:** The following were some of my limitations\n",
    ">\n",
    ">(a) The number of charts that can be plotted using categorical data is limited \n",
    ">\n",
    ">(b) Further research needs to be conducted in order to determine why more females missed their scheduled appointments as this cannot be inferred from the data. \n",
    ">\n",
    ">(c) It is not possible to ascertain what mode of transportation the patients used to get to their appointments. This information was missing.\n",
    "\n",
    "## Submitting your Project "
   ]
  },
  {
   "cell_type": "code",
   "execution_count": 325,
   "metadata": {},
   "outputs": [],
   "source": [
    "from subprocess import call\n",
    "call(['python', '-m', 'nbconvert', 'Investigate_a_Dataset.ipynb'])"
   ]
  },
  {
   "cell_type": "code",
   "execution_count": null,
   "metadata": {},
   "outputs": [],
   "source": []
  }
 ],
 "metadata": {
  "kernelspec": {
   "display_name": "Python 3",
   "language": "python",
   "name": "python3"
  },
  "language_info": {
   "codemirror_mode": {
    "name": "ipython",
    "version": 3
   },
   "file_extension": ".py",
   "mimetype": "text/x-python",
   "name": "python",
   "nbconvert_exporter": "python",
   "pygments_lexer": "ipython3",
   "version": "3.8.5"
  }
 },
 "nbformat": 4,
 "nbformat_minor": 2
}
